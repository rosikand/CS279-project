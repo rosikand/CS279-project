{
  "nbformat": 4,
  "nbformat_minor": 0,
  "metadata": {
    "colab": {
      "name": "mlp.ipynb",
      "provenance": [],
      "collapsed_sections": []
    },
    "kernelspec": {
      "name": "python3",
      "display_name": "Python 3"
    },
    "language_info": {
      "name": "python"
    },
    "accelerator": "GPU"
  },
  "cells": [
    {
      "cell_type": "markdown",
      "metadata": {
        "id": "7QGOPjsMYE8_"
      },
      "source": [
        "# CS 279 Project Notebook "
      ]
    },
    {
      "cell_type": "markdown",
      "metadata": {
        "id": "Y_HcU_lxXvye"
      },
      "source": [
        "This notebook contains the machine learning part of the experiment where we build, train, and test the model. Tensorflow was used. Thus, the documentation was referenced frequently. "
      ]
    },
    {
      "cell_type": "markdown",
      "metadata": {
        "id": "4D479slqck7c"
      },
      "source": [
        "## Imports and processing data "
      ]
    },
    {
      "cell_type": "code",
      "metadata": {
        "id": "umSbQWNNcri4"
      },
      "source": [
        "import keras   \n",
        "from keras import backend as K\n",
        "from keras.models import Sequential\n",
        "from keras.layers.core import Dense, Flatten\n",
        "from tensorflow.keras.optimizers import Adam\n",
        "from keras.metrics import categorical_crossentropy\n",
        "from keras.preprocessing.image import ImageDataGenerator\n",
        "from matplotlib import pyplot as plt\n",
        "import matplotlib.pyplot as plt\n",
        "%matplotlib inline"
      ],
      "execution_count": 2,
      "outputs": []
    },
    {
      "cell_type": "code",
      "metadata": {
        "id": "5XbvqxyMcgWI"
      },
      "source": [
        "import pickle\n",
        "\n",
        "# load in labels and samples \n",
        "data_file = open('subset.pkl', 'rb')"
      ],
      "execution_count": 3,
      "outputs": []
    },
    {
      "cell_type": "code",
      "metadata": {
        "id": "KDQBRi-Gcibj"
      },
      "source": [
        "data_set = pickle.load(data_file)"
      ],
      "execution_count": 4,
      "outputs": []
    },
    {
      "cell_type": "code",
      "metadata": {
        "id": "qlOjpsSJcjqG"
      },
      "source": [
        "import numpy as np\n",
        "\n",
        "unzipped_list = list(zip(*data_set))\n",
        "X = list(unzipped_list[0])\n",
        "y = list(unzipped_list[1])\n",
        "X = np.array(X)\n",
        "y = np.array(y)"
      ],
      "execution_count": 5,
      "outputs": []
    },
    {
      "cell_type": "code",
      "metadata": {
        "id": "FiYmrGMafnu0"
      },
      "source": [
        "# split data into train and test \n",
        "idx = round(len(X)*.9)\n",
        "X_train = X[:idx]\n",
        "X_test = X[idx:]\n",
        "y_train = y[:idx]\n",
        "y_test = y[idx:]"
      ],
      "execution_count": 6,
      "outputs": []
    },
    {
      "cell_type": "markdown",
      "metadata": {
        "id": "3Yq8VFa_c0Z9"
      },
      "source": [
        "## Initialize and train model "
      ]
    },
    {
      "cell_type": "code",
      "metadata": {
        "id": "vUOd9RJgcpWy"
      },
      "source": [
        "import tensorflow as tf\n",
        "import keras\n",
        "\n",
        "model = tf.keras.Sequential([\n",
        "    tf.keras.layers.Flatten(input_shape=(512, 512, 3)),\n",
        "    tf.keras.layers.Dense(32, activation='relu'),\n",
        "    tf.keras.layers.Dense(64, activation='relu'),\n",
        "    tf.keras.layers.Dense(128, activation='relu'),\n",
        "    tf.keras.layers.Dense(256, activation='relu'),\n",
        "    tf.keras.layers.Dense(28, activation='sigmoid')\n",
        "])"
      ],
      "execution_count": 7,
      "outputs": []
    },
    {
      "cell_type": "code",
      "metadata": {
        "id": "mMdcrdwFd7A7"
      },
      "source": [
        "model.compile(loss='binary_crossentropy', optimizer='adam', metrics=['accuracy'])"
      ],
      "execution_count": 9,
      "outputs": []
    },
    {
      "cell_type": "code",
      "metadata": {
        "colab": {
          "base_uri": "https://localhost:8080/"
        },
        "id": "lmeoEXXZd9fr",
        "outputId": "d70835f3-145f-47e0-9fd9-7298c9794265"
      },
      "source": [
        "history = model.fit(X_train, y_train, epochs=250)"
      ],
      "execution_count": 10,
      "outputs": [
        {
          "output_type": "stream",
          "name": "stdout",
          "text": [
            "Epoch 1/250\n",
            "3/3 [==============================] - 2s 90ms/step - loss: 1.2640 - accuracy: 0.2289\n",
            "Epoch 2/250\n",
            "3/3 [==============================] - 0s 95ms/step - loss: 0.7158 - accuracy: 0.0241\n",
            "Epoch 3/250\n",
            "3/3 [==============================] - 0s 83ms/step - loss: 0.4420 - accuracy: 0.3133\n",
            "Epoch 4/250\n",
            "3/3 [==============================] - 0s 86ms/step - loss: 0.4272 - accuracy: 0.2771\n",
            "Epoch 5/250\n",
            "3/3 [==============================] - 0s 80ms/step - loss: 0.3686 - accuracy: 0.1446\n",
            "Epoch 6/250\n",
            "3/3 [==============================] - 0s 92ms/step - loss: 0.3067 - accuracy: 0.4699\n",
            "Epoch 7/250\n",
            "3/3 [==============================] - 0s 83ms/step - loss: 0.2491 - accuracy: 0.3133\n",
            "Epoch 8/250\n",
            "3/3 [==============================] - 0s 86ms/step - loss: 0.1797 - accuracy: 0.4458\n",
            "Epoch 9/250\n",
            "3/3 [==============================] - 0s 87ms/step - loss: 0.1447 - accuracy: 0.5301\n",
            "Epoch 10/250\n",
            "3/3 [==============================] - 0s 81ms/step - loss: 0.1175 - accuracy: 0.4819\n",
            "Epoch 11/250\n",
            "3/3 [==============================] - 0s 80ms/step - loss: 0.1079 - accuracy: 0.6506\n",
            "Epoch 12/250\n",
            "3/3 [==============================] - 0s 88ms/step - loss: 0.0883 - accuracy: 0.5663\n",
            "Epoch 13/250\n",
            "3/3 [==============================] - 0s 92ms/step - loss: 0.0757 - accuracy: 0.6386\n",
            "Epoch 14/250\n",
            "3/3 [==============================] - 0s 89ms/step - loss: 0.0643 - accuracy: 0.7108\n",
            "Epoch 15/250\n",
            "3/3 [==============================] - 0s 86ms/step - loss: 0.0550 - accuracy: 0.6988\n",
            "Epoch 16/250\n",
            "3/3 [==============================] - 0s 80ms/step - loss: 0.0462 - accuracy: 0.6506\n",
            "Epoch 17/250\n",
            "3/3 [==============================] - 0s 86ms/step - loss: 0.0397 - accuracy: 0.6988\n",
            "Epoch 18/250\n",
            "3/3 [==============================] - 0s 84ms/step - loss: 0.0346 - accuracy: 0.7470\n",
            "Epoch 19/250\n",
            "3/3 [==============================] - 0s 86ms/step - loss: 0.0307 - accuracy: 0.7108\n",
            "Epoch 20/250\n",
            "3/3 [==============================] - 0s 80ms/step - loss: 0.0266 - accuracy: 0.7349\n",
            "Epoch 21/250\n",
            "3/3 [==============================] - 0s 91ms/step - loss: 0.0236 - accuracy: 0.7470\n",
            "Epoch 22/250\n",
            "3/3 [==============================] - 0s 86ms/step - loss: 0.0204 - accuracy: 0.7349\n",
            "Epoch 23/250\n",
            "3/3 [==============================] - 0s 90ms/step - loss: 0.0178 - accuracy: 0.7711\n",
            "Epoch 24/250\n",
            "3/3 [==============================] - 0s 83ms/step - loss: 0.0157 - accuracy: 0.7831\n",
            "Epoch 25/250\n",
            "3/3 [==============================] - 0s 86ms/step - loss: 0.0136 - accuracy: 0.7952\n",
            "Epoch 26/250\n",
            "3/3 [==============================] - 0s 89ms/step - loss: 0.0122 - accuracy: 0.8072\n",
            "Epoch 27/250\n",
            "3/3 [==============================] - 0s 84ms/step - loss: 0.0109 - accuracy: 0.7590\n",
            "Epoch 28/250\n",
            "3/3 [==============================] - 0s 83ms/step - loss: 0.0097 - accuracy: 0.7470\n",
            "Epoch 29/250\n",
            "3/3 [==============================] - 0s 88ms/step - loss: 0.0087 - accuracy: 0.7831\n",
            "Epoch 30/250\n",
            "3/3 [==============================] - 0s 88ms/step - loss: 0.0077 - accuracy: 0.7952\n",
            "Epoch 31/250\n",
            "3/3 [==============================] - 0s 77ms/step - loss: 0.0071 - accuracy: 0.8434\n",
            "Epoch 32/250\n",
            "3/3 [==============================] - 0s 87ms/step - loss: 0.0063 - accuracy: 0.8554\n",
            "Epoch 33/250\n",
            "3/3 [==============================] - 0s 76ms/step - loss: 0.0059 - accuracy: 0.8675\n",
            "Epoch 34/250\n",
            "3/3 [==============================] - 0s 83ms/step - loss: 0.0053 - accuracy: 0.8554\n",
            "Epoch 35/250\n",
            "3/3 [==============================] - 0s 75ms/step - loss: 0.0049 - accuracy: 0.8313\n",
            "Epoch 36/250\n",
            "3/3 [==============================] - 0s 80ms/step - loss: 0.0045 - accuracy: 0.8072\n",
            "Epoch 37/250\n",
            "3/3 [==============================] - 0s 81ms/step - loss: 0.0042 - accuracy: 0.7952\n",
            "Epoch 38/250\n",
            "3/3 [==============================] - 0s 80ms/step - loss: 0.0039 - accuracy: 0.7952\n",
            "Epoch 39/250\n",
            "3/3 [==============================] - 0s 82ms/step - loss: 0.0036 - accuracy: 0.8313\n",
            "Epoch 40/250\n",
            "3/3 [==============================] - 0s 79ms/step - loss: 0.0034 - accuracy: 0.8193\n",
            "Epoch 41/250\n",
            "3/3 [==============================] - 0s 80ms/step - loss: 0.0032 - accuracy: 0.8072\n",
            "Epoch 42/250\n",
            "3/3 [==============================] - 0s 84ms/step - loss: 0.0029 - accuracy: 0.7952\n",
            "Epoch 43/250\n",
            "3/3 [==============================] - 0s 77ms/step - loss: 0.0027 - accuracy: 0.7831\n",
            "Epoch 44/250\n",
            "3/3 [==============================] - 0s 80ms/step - loss: 0.0026 - accuracy: 0.7831\n",
            "Epoch 45/250\n",
            "3/3 [==============================] - 0s 78ms/step - loss: 0.0024 - accuracy: 0.8072\n",
            "Epoch 46/250\n",
            "3/3 [==============================] - 0s 74ms/step - loss: 0.0023 - accuracy: 0.8313\n",
            "Epoch 47/250\n",
            "3/3 [==============================] - 0s 75ms/step - loss: 0.0022 - accuracy: 0.8193\n",
            "Epoch 48/250\n",
            "3/3 [==============================] - 0s 80ms/step - loss: 0.0020 - accuracy: 0.8072\n",
            "Epoch 49/250\n",
            "3/3 [==============================] - 0s 78ms/step - loss: 0.0019 - accuracy: 0.8193\n",
            "Epoch 50/250\n",
            "3/3 [==============================] - 0s 79ms/step - loss: 0.0018 - accuracy: 0.8313\n",
            "Epoch 51/250\n",
            "3/3 [==============================] - 0s 79ms/step - loss: 0.0017 - accuracy: 0.8313\n",
            "Epoch 52/250\n",
            "3/3 [==============================] - 0s 84ms/step - loss: 0.0015 - accuracy: 0.8193\n",
            "Epoch 53/250\n",
            "3/3 [==============================] - 0s 82ms/step - loss: 0.0015 - accuracy: 0.8072\n",
            "Epoch 54/250\n",
            "3/3 [==============================] - 0s 72ms/step - loss: 0.0014 - accuracy: 0.8072\n",
            "Epoch 55/250\n",
            "3/3 [==============================] - 0s 80ms/step - loss: 0.0013 - accuracy: 0.8072\n",
            "Epoch 56/250\n",
            "3/3 [==============================] - 0s 81ms/step - loss: 0.0012 - accuracy: 0.8072\n",
            "Epoch 57/250\n",
            "3/3 [==============================] - 0s 80ms/step - loss: 0.0011 - accuracy: 0.7952\n",
            "Epoch 58/250\n",
            "3/3 [==============================] - 0s 83ms/step - loss: 9.9653e-04 - accuracy: 0.7952\n",
            "Epoch 59/250\n",
            "3/3 [==============================] - 0s 81ms/step - loss: 9.5917e-04 - accuracy: 0.8072\n",
            "Epoch 60/250\n",
            "3/3 [==============================] - 0s 78ms/step - loss: 8.8152e-04 - accuracy: 0.7952\n",
            "Epoch 61/250\n",
            "3/3 [==============================] - 0s 78ms/step - loss: 8.0127e-04 - accuracy: 0.7952\n",
            "Epoch 62/250\n",
            "3/3 [==============================] - 0s 79ms/step - loss: 7.3817e-04 - accuracy: 0.7831\n",
            "Epoch 63/250\n",
            "3/3 [==============================] - 0s 81ms/step - loss: 6.9489e-04 - accuracy: 0.7831\n",
            "Epoch 64/250\n",
            "3/3 [==============================] - 0s 82ms/step - loss: 6.3575e-04 - accuracy: 0.7831\n",
            "Epoch 65/250\n",
            "3/3 [==============================] - 0s 82ms/step - loss: 5.9777e-04 - accuracy: 0.7831\n",
            "Epoch 66/250\n",
            "3/3 [==============================] - 0s 81ms/step - loss: 5.5540e-04 - accuracy: 0.7831\n",
            "Epoch 67/250\n",
            "3/3 [==============================] - 0s 81ms/step - loss: 5.2257e-04 - accuracy: 0.7831\n",
            "Epoch 68/250\n",
            "3/3 [==============================] - 0s 80ms/step - loss: 4.7278e-04 - accuracy: 0.7831\n",
            "Epoch 69/250\n",
            "3/3 [==============================] - 0s 83ms/step - loss: 4.5379e-04 - accuracy: 0.7831\n",
            "Epoch 70/250\n",
            "3/3 [==============================] - 0s 80ms/step - loss: 4.1953e-04 - accuracy: 0.7831\n",
            "Epoch 71/250\n",
            "3/3 [==============================] - 0s 79ms/step - loss: 3.9042e-04 - accuracy: 0.7711\n",
            "Epoch 72/250\n",
            "3/3 [==============================] - 0s 80ms/step - loss: 3.6369e-04 - accuracy: 0.7590\n",
            "Epoch 73/250\n",
            "3/3 [==============================] - 0s 81ms/step - loss: 3.4039e-04 - accuracy: 0.7590\n",
            "Epoch 74/250\n",
            "3/3 [==============================] - 0s 81ms/step - loss: 3.1469e-04 - accuracy: 0.7590\n",
            "Epoch 75/250\n",
            "3/3 [==============================] - 0s 83ms/step - loss: 2.9513e-04 - accuracy: 0.7590\n",
            "Epoch 76/250\n",
            "3/3 [==============================] - 0s 88ms/step - loss: 2.7708e-04 - accuracy: 0.7590\n",
            "Epoch 77/250\n",
            "3/3 [==============================] - 0s 82ms/step - loss: 2.6580e-04 - accuracy: 0.7711\n",
            "Epoch 78/250\n",
            "3/3 [==============================] - 0s 82ms/step - loss: 2.4823e-04 - accuracy: 0.7711\n",
            "Epoch 79/250\n",
            "3/3 [==============================] - 0s 88ms/step - loss: 2.3390e-04 - accuracy: 0.7711\n",
            "Epoch 80/250\n",
            "3/3 [==============================] - 0s 81ms/step - loss: 2.2192e-04 - accuracy: 0.7711\n",
            "Epoch 81/250\n",
            "3/3 [==============================] - 0s 83ms/step - loss: 2.1223e-04 - accuracy: 0.7590\n",
            "Epoch 82/250\n",
            "3/3 [==============================] - 0s 77ms/step - loss: 2.0056e-04 - accuracy: 0.7590\n",
            "Epoch 83/250\n",
            "3/3 [==============================] - 0s 81ms/step - loss: 1.9224e-04 - accuracy: 0.7590\n",
            "Epoch 84/250\n",
            "3/3 [==============================] - 0s 82ms/step - loss: 1.8183e-04 - accuracy: 0.7590\n",
            "Epoch 85/250\n",
            "3/3 [==============================] - 0s 77ms/step - loss: 1.7384e-04 - accuracy: 0.7590\n",
            "Epoch 86/250\n",
            "3/3 [==============================] - 0s 77ms/step - loss: 1.6738e-04 - accuracy: 0.7590\n",
            "Epoch 87/250\n",
            "3/3 [==============================] - 0s 81ms/step - loss: 1.6094e-04 - accuracy: 0.7590\n",
            "Epoch 88/250\n",
            "3/3 [==============================] - 0s 85ms/step - loss: 1.5429e-04 - accuracy: 0.7590\n",
            "Epoch 89/250\n",
            "3/3 [==============================] - 0s 80ms/step - loss: 1.4821e-04 - accuracy: 0.7590\n",
            "Epoch 90/250\n",
            "3/3 [==============================] - 0s 82ms/step - loss: 1.4315e-04 - accuracy: 0.7590\n",
            "Epoch 91/250\n",
            "3/3 [==============================] - 0s 79ms/step - loss: 1.3858e-04 - accuracy: 0.7590\n",
            "Epoch 92/250\n",
            "3/3 [==============================] - 0s 85ms/step - loss: 1.3392e-04 - accuracy: 0.7590\n",
            "Epoch 93/250\n",
            "3/3 [==============================] - 0s 83ms/step - loss: 1.2918e-04 - accuracy: 0.7590\n",
            "Epoch 94/250\n",
            "3/3 [==============================] - 0s 80ms/step - loss: 1.2502e-04 - accuracy: 0.7590\n",
            "Epoch 95/250\n",
            "3/3 [==============================] - 0s 83ms/step - loss: 1.2088e-04 - accuracy: 0.7590\n",
            "Epoch 96/250\n",
            "3/3 [==============================] - 0s 80ms/step - loss: 1.1727e-04 - accuracy: 0.7590\n",
            "Epoch 97/250\n",
            "3/3 [==============================] - 0s 82ms/step - loss: 1.1363e-04 - accuracy: 0.7590\n",
            "Epoch 98/250\n",
            "3/3 [==============================] - 0s 81ms/step - loss: 1.1018e-04 - accuracy: 0.7590\n",
            "Epoch 99/250\n",
            "3/3 [==============================] - 0s 84ms/step - loss: 1.0658e-04 - accuracy: 0.7590\n",
            "Epoch 100/250\n",
            "3/3 [==============================] - 0s 76ms/step - loss: 1.0393e-04 - accuracy: 0.7590\n",
            "Epoch 101/250\n",
            "3/3 [==============================] - 0s 83ms/step - loss: 1.0130e-04 - accuracy: 0.7590\n",
            "Epoch 102/250\n",
            "3/3 [==============================] - 0s 79ms/step - loss: 9.8147e-05 - accuracy: 0.7590\n",
            "Epoch 103/250\n",
            "3/3 [==============================] - 0s 79ms/step - loss: 9.5432e-05 - accuracy: 0.7590\n",
            "Epoch 104/250\n",
            "3/3 [==============================] - 0s 81ms/step - loss: 9.3066e-05 - accuracy: 0.7590\n",
            "Epoch 105/250\n",
            "3/3 [==============================] - 0s 77ms/step - loss: 9.0020e-05 - accuracy: 0.7590\n",
            "Epoch 106/250\n",
            "3/3 [==============================] - 0s 75ms/step - loss: 8.8101e-05 - accuracy: 0.7590\n",
            "Epoch 107/250\n",
            "3/3 [==============================] - 0s 85ms/step - loss: 8.5529e-05 - accuracy: 0.7590\n",
            "Epoch 108/250\n",
            "3/3 [==============================] - 0s 80ms/step - loss: 8.3419e-05 - accuracy: 0.7590\n",
            "Epoch 109/250\n",
            "3/3 [==============================] - 0s 79ms/step - loss: 8.1407e-05 - accuracy: 0.7590\n",
            "Epoch 110/250\n",
            "3/3 [==============================] - 0s 80ms/step - loss: 7.9646e-05 - accuracy: 0.7590\n",
            "Epoch 111/250\n",
            "3/3 [==============================] - 0s 80ms/step - loss: 7.7575e-05 - accuracy: 0.7590\n",
            "Epoch 112/250\n",
            "3/3 [==============================] - 0s 77ms/step - loss: 7.5989e-05 - accuracy: 0.7590\n",
            "Epoch 113/250\n",
            "3/3 [==============================] - 0s 79ms/step - loss: 7.4210e-05 - accuracy: 0.7590\n",
            "Epoch 114/250\n",
            "3/3 [==============================] - 0s 80ms/step - loss: 7.2411e-05 - accuracy: 0.7590\n",
            "Epoch 115/250\n",
            "3/3 [==============================] - 0s 81ms/step - loss: 7.0846e-05 - accuracy: 0.7590\n",
            "Epoch 116/250\n",
            "3/3 [==============================] - 0s 82ms/step - loss: 6.9491e-05 - accuracy: 0.7590\n",
            "Epoch 117/250\n",
            "3/3 [==============================] - 0s 81ms/step - loss: 6.7827e-05 - accuracy: 0.7590\n",
            "Epoch 118/250\n",
            "3/3 [==============================] - 0s 84ms/step - loss: 6.6340e-05 - accuracy: 0.7590\n",
            "Epoch 119/250\n",
            "3/3 [==============================] - 0s 81ms/step - loss: 6.5071e-05 - accuracy: 0.7590\n",
            "Epoch 120/250\n",
            "3/3 [==============================] - 0s 79ms/step - loss: 6.3681e-05 - accuracy: 0.7590\n",
            "Epoch 121/250\n",
            "3/3 [==============================] - 0s 82ms/step - loss: 6.2161e-05 - accuracy: 0.7590\n",
            "Epoch 122/250\n",
            "3/3 [==============================] - 0s 84ms/step - loss: 6.0927e-05 - accuracy: 0.7590\n",
            "Epoch 123/250\n",
            "3/3 [==============================] - 0s 89ms/step - loss: 5.9677e-05 - accuracy: 0.7590\n",
            "Epoch 124/250\n",
            "3/3 [==============================] - 0s 74ms/step - loss: 5.8516e-05 - accuracy: 0.7590\n",
            "Epoch 125/250\n",
            "3/3 [==============================] - 0s 80ms/step - loss: 5.7386e-05 - accuracy: 0.7590\n",
            "Epoch 126/250\n",
            "3/3 [==============================] - 0s 74ms/step - loss: 5.6232e-05 - accuracy: 0.7590\n",
            "Epoch 127/250\n",
            "3/3 [==============================] - 0s 72ms/step - loss: 5.5150e-05 - accuracy: 0.7590\n",
            "Epoch 128/250\n",
            "3/3 [==============================] - 0s 82ms/step - loss: 5.4121e-05 - accuracy: 0.7590\n",
            "Epoch 129/250\n",
            "3/3 [==============================] - 0s 83ms/step - loss: 5.2902e-05 - accuracy: 0.7590\n",
            "Epoch 130/250\n",
            "3/3 [==============================] - 0s 72ms/step - loss: 5.2102e-05 - accuracy: 0.7590\n",
            "Epoch 131/250\n",
            "3/3 [==============================] - 0s 82ms/step - loss: 5.0976e-05 - accuracy: 0.7590\n",
            "Epoch 132/250\n",
            "3/3 [==============================] - 0s 80ms/step - loss: 5.0033e-05 - accuracy: 0.7590\n",
            "Epoch 133/250\n",
            "3/3 [==============================] - 0s 86ms/step - loss: 4.9104e-05 - accuracy: 0.7590\n",
            "Epoch 134/250\n",
            "3/3 [==============================] - 0s 72ms/step - loss: 4.8194e-05 - accuracy: 0.7590\n",
            "Epoch 135/250\n",
            "3/3 [==============================] - 0s 79ms/step - loss: 4.7230e-05 - accuracy: 0.7590\n",
            "Epoch 136/250\n",
            "3/3 [==============================] - 0s 77ms/step - loss: 4.6367e-05 - accuracy: 0.7590\n",
            "Epoch 137/250\n",
            "3/3 [==============================] - 0s 81ms/step - loss: 4.5505e-05 - accuracy: 0.7590\n",
            "Epoch 138/250\n",
            "3/3 [==============================] - 0s 77ms/step - loss: 4.4637e-05 - accuracy: 0.7590\n",
            "Epoch 139/250\n",
            "3/3 [==============================] - 0s 80ms/step - loss: 4.3885e-05 - accuracy: 0.7590\n",
            "Epoch 140/250\n",
            "3/3 [==============================] - 0s 74ms/step - loss: 4.3046e-05 - accuracy: 0.7590\n",
            "Epoch 141/250\n",
            "3/3 [==============================] - 0s 79ms/step - loss: 4.2323e-05 - accuracy: 0.7590\n",
            "Epoch 142/250\n",
            "3/3 [==============================] - 0s 82ms/step - loss: 4.1487e-05 - accuracy: 0.7590\n",
            "Epoch 143/250\n",
            "3/3 [==============================] - 0s 78ms/step - loss: 4.0756e-05 - accuracy: 0.7590\n",
            "Epoch 144/250\n",
            "3/3 [==============================] - 0s 85ms/step - loss: 4.0089e-05 - accuracy: 0.7590\n",
            "Epoch 145/250\n",
            "3/3 [==============================] - 0s 84ms/step - loss: 3.9425e-05 - accuracy: 0.7711\n",
            "Epoch 146/250\n",
            "3/3 [==============================] - 0s 83ms/step - loss: 3.8791e-05 - accuracy: 0.7590\n",
            "Epoch 147/250\n",
            "3/3 [==============================] - 0s 82ms/step - loss: 3.8058e-05 - accuracy: 0.7590\n",
            "Epoch 148/250\n",
            "3/3 [==============================] - 0s 86ms/step - loss: 3.7413e-05 - accuracy: 0.7590\n",
            "Epoch 149/250\n",
            "3/3 [==============================] - 0s 83ms/step - loss: 3.6781e-05 - accuracy: 0.7590\n",
            "Epoch 150/250\n",
            "3/3 [==============================] - 0s 78ms/step - loss: 3.6162e-05 - accuracy: 0.7590\n",
            "Epoch 151/250\n",
            "3/3 [==============================] - 0s 76ms/step - loss: 3.5624e-05 - accuracy: 0.7590\n",
            "Epoch 152/250\n",
            "3/3 [==============================] - 0s 79ms/step - loss: 3.5015e-05 - accuracy: 0.7711\n",
            "Epoch 153/250\n",
            "3/3 [==============================] - 0s 83ms/step - loss: 3.4393e-05 - accuracy: 0.7711\n",
            "Epoch 154/250\n",
            "3/3 [==============================] - 0s 77ms/step - loss: 3.3877e-05 - accuracy: 0.7711\n",
            "Epoch 155/250\n",
            "3/3 [==============================] - 0s 84ms/step - loss: 3.3387e-05 - accuracy: 0.7711\n",
            "Epoch 156/250\n",
            "3/3 [==============================] - 0s 89ms/step - loss: 3.2812e-05 - accuracy: 0.7711\n",
            "Epoch 157/250\n",
            "3/3 [==============================] - 0s 84ms/step - loss: 3.2315e-05 - accuracy: 0.7711\n",
            "Epoch 158/250\n",
            "3/3 [==============================] - 0s 79ms/step - loss: 3.1782e-05 - accuracy: 0.7711\n",
            "Epoch 159/250\n",
            "3/3 [==============================] - 0s 79ms/step - loss: 3.1308e-05 - accuracy: 0.7590\n",
            "Epoch 160/250\n",
            "3/3 [==============================] - 0s 80ms/step - loss: 3.0816e-05 - accuracy: 0.7590\n",
            "Epoch 161/250\n",
            "3/3 [==============================] - 0s 81ms/step - loss: 3.0333e-05 - accuracy: 0.7590\n",
            "Epoch 162/250\n",
            "3/3 [==============================] - 0s 79ms/step - loss: 2.9836e-05 - accuracy: 0.7590\n",
            "Epoch 163/250\n",
            "3/3 [==============================] - 0s 71ms/step - loss: 2.9454e-05 - accuracy: 0.7590\n",
            "Epoch 164/250\n",
            "3/3 [==============================] - 0s 84ms/step - loss: 2.8988e-05 - accuracy: 0.7590\n",
            "Epoch 165/250\n",
            "3/3 [==============================] - 0s 84ms/step - loss: 2.8572e-05 - accuracy: 0.7590\n",
            "Epoch 166/250\n",
            "3/3 [==============================] - 0s 82ms/step - loss: 2.8140e-05 - accuracy: 0.7590\n",
            "Epoch 167/250\n",
            "3/3 [==============================] - 0s 83ms/step - loss: 2.7752e-05 - accuracy: 0.7590\n",
            "Epoch 168/250\n",
            "3/3 [==============================] - 0s 82ms/step - loss: 2.7336e-05 - accuracy: 0.7590\n",
            "Epoch 169/250\n",
            "3/3 [==============================] - 0s 71ms/step - loss: 2.6929e-05 - accuracy: 0.7590\n",
            "Epoch 170/250\n",
            "3/3 [==============================] - 0s 78ms/step - loss: 2.6538e-05 - accuracy: 0.7590\n",
            "Epoch 171/250\n",
            "3/3 [==============================] - 0s 85ms/step - loss: 2.6160e-05 - accuracy: 0.7590\n",
            "Epoch 172/250\n",
            "3/3 [==============================] - 0s 83ms/step - loss: 2.5781e-05 - accuracy: 0.7590\n",
            "Epoch 173/250\n",
            "3/3 [==============================] - 0s 77ms/step - loss: 2.5431e-05 - accuracy: 0.7590\n",
            "Epoch 174/250\n",
            "3/3 [==============================] - 0s 76ms/step - loss: 2.5049e-05 - accuracy: 0.7590\n",
            "Epoch 175/250\n",
            "3/3 [==============================] - 0s 70ms/step - loss: 2.4707e-05 - accuracy: 0.7590\n",
            "Epoch 176/250\n",
            "3/3 [==============================] - 0s 81ms/step - loss: 2.4350e-05 - accuracy: 0.7590\n",
            "Epoch 177/250\n",
            "3/3 [==============================] - 0s 75ms/step - loss: 2.3969e-05 - accuracy: 0.7590\n",
            "Epoch 178/250\n",
            "3/3 [==============================] - 0s 75ms/step - loss: 2.3637e-05 - accuracy: 0.7590\n",
            "Epoch 179/250\n",
            "3/3 [==============================] - 0s 79ms/step - loss: 2.3335e-05 - accuracy: 0.7590\n",
            "Epoch 180/250\n",
            "3/3 [==============================] - 0s 79ms/step - loss: 2.2991e-05 - accuracy: 0.7590\n",
            "Epoch 181/250\n",
            "3/3 [==============================] - 0s 85ms/step - loss: 2.2684e-05 - accuracy: 0.7590\n",
            "Epoch 182/250\n",
            "3/3 [==============================] - 0s 81ms/step - loss: 2.2358e-05 - accuracy: 0.7590\n",
            "Epoch 183/250\n",
            "3/3 [==============================] - 0s 74ms/step - loss: 2.2084e-05 - accuracy: 0.7590\n",
            "Epoch 184/250\n",
            "3/3 [==============================] - 0s 81ms/step - loss: 2.1779e-05 - accuracy: 0.7590\n",
            "Epoch 185/250\n",
            "3/3 [==============================] - 0s 80ms/step - loss: 2.1487e-05 - accuracy: 0.7590\n",
            "Epoch 186/250\n",
            "3/3 [==============================] - 0s 84ms/step - loss: 2.1186e-05 - accuracy: 0.7590\n",
            "Epoch 187/250\n",
            "3/3 [==============================] - 0s 77ms/step - loss: 2.0926e-05 - accuracy: 0.7590\n",
            "Epoch 188/250\n",
            "3/3 [==============================] - 0s 73ms/step - loss: 2.0649e-05 - accuracy: 0.7590\n",
            "Epoch 189/250\n",
            "3/3 [==============================] - 0s 77ms/step - loss: 2.0357e-05 - accuracy: 0.7590\n",
            "Epoch 190/250\n",
            "3/3 [==============================] - 0s 81ms/step - loss: 2.0094e-05 - accuracy: 0.7590\n",
            "Epoch 191/250\n",
            "3/3 [==============================] - 0s 77ms/step - loss: 1.9824e-05 - accuracy: 0.7590\n",
            "Epoch 192/250\n",
            "3/3 [==============================] - 0s 81ms/step - loss: 1.9573e-05 - accuracy: 0.7590\n",
            "Epoch 193/250\n",
            "3/3 [==============================] - 0s 78ms/step - loss: 1.9315e-05 - accuracy: 0.7590\n",
            "Epoch 194/250\n",
            "3/3 [==============================] - 0s 87ms/step - loss: 1.9058e-05 - accuracy: 0.7590\n",
            "Epoch 195/250\n",
            "3/3 [==============================] - 0s 87ms/step - loss: 1.8809e-05 - accuracy: 0.7590\n",
            "Epoch 196/250\n",
            "3/3 [==============================] - 0s 82ms/step - loss: 1.8576e-05 - accuracy: 0.7590\n",
            "Epoch 197/250\n",
            "3/3 [==============================] - 0s 77ms/step - loss: 1.8349e-05 - accuracy: 0.7590\n",
            "Epoch 198/250\n",
            "3/3 [==============================] - 0s 85ms/step - loss: 1.8118e-05 - accuracy: 0.7590\n",
            "Epoch 199/250\n",
            "3/3 [==============================] - 0s 92ms/step - loss: 1.7892e-05 - accuracy: 0.7590\n",
            "Epoch 200/250\n",
            "3/3 [==============================] - 0s 83ms/step - loss: 1.7667e-05 - accuracy: 0.7590\n",
            "Epoch 201/250\n",
            "3/3 [==============================] - 0s 87ms/step - loss: 1.7460e-05 - accuracy: 0.7590\n",
            "Epoch 202/250\n",
            "3/3 [==============================] - 0s 86ms/step - loss: 1.7235e-05 - accuracy: 0.7590\n",
            "Epoch 203/250\n",
            "3/3 [==============================] - 0s 78ms/step - loss: 1.7032e-05 - accuracy: 0.7590\n",
            "Epoch 204/250\n",
            "3/3 [==============================] - 0s 81ms/step - loss: 1.6833e-05 - accuracy: 0.7831\n",
            "Epoch 205/250\n",
            "3/3 [==============================] - 0s 77ms/step - loss: 1.6615e-05 - accuracy: 0.7831\n",
            "Epoch 206/250\n",
            "3/3 [==============================] - 0s 83ms/step - loss: 1.6424e-05 - accuracy: 0.7831\n",
            "Epoch 207/250\n",
            "3/3 [==============================] - 0s 80ms/step - loss: 1.6227e-05 - accuracy: 0.7831\n",
            "Epoch 208/250\n",
            "3/3 [==============================] - 0s 82ms/step - loss: 1.6063e-05 - accuracy: 0.7831\n",
            "Epoch 209/250\n",
            "3/3 [==============================] - 0s 77ms/step - loss: 1.5844e-05 - accuracy: 0.7831\n",
            "Epoch 210/250\n",
            "3/3 [==============================] - 0s 78ms/step - loss: 1.5678e-05 - accuracy: 0.7831\n",
            "Epoch 211/250\n",
            "3/3 [==============================] - 0s 86ms/step - loss: 1.5477e-05 - accuracy: 0.7831\n",
            "Epoch 212/250\n",
            "3/3 [==============================] - 0s 85ms/step - loss: 1.5308e-05 - accuracy: 0.7831\n",
            "Epoch 213/250\n",
            "3/3 [==============================] - 0s 80ms/step - loss: 1.5120e-05 - accuracy: 0.7711\n",
            "Epoch 214/250\n",
            "3/3 [==============================] - 0s 84ms/step - loss: 1.4950e-05 - accuracy: 0.7711\n",
            "Epoch 215/250\n",
            "3/3 [==============================] - 0s 76ms/step - loss: 1.4792e-05 - accuracy: 0.7711\n",
            "Epoch 216/250\n",
            "3/3 [==============================] - 0s 68ms/step - loss: 1.4621e-05 - accuracy: 0.7711\n",
            "Epoch 217/250\n",
            "3/3 [==============================] - 0s 66ms/step - loss: 1.4465e-05 - accuracy: 0.7831\n",
            "Epoch 218/250\n",
            "3/3 [==============================] - 0s 82ms/step - loss: 1.4285e-05 - accuracy: 0.7831\n",
            "Epoch 219/250\n",
            "3/3 [==============================] - 0s 81ms/step - loss: 1.4124e-05 - accuracy: 0.7831\n",
            "Epoch 220/250\n",
            "3/3 [==============================] - 0s 76ms/step - loss: 1.3968e-05 - accuracy: 0.7831\n",
            "Epoch 221/250\n",
            "3/3 [==============================] - 0s 80ms/step - loss: 1.3819e-05 - accuracy: 0.7831\n",
            "Epoch 222/250\n",
            "3/3 [==============================] - 0s 82ms/step - loss: 1.3664e-05 - accuracy: 0.7831\n",
            "Epoch 223/250\n",
            "3/3 [==============================] - 0s 76ms/step - loss: 1.3523e-05 - accuracy: 0.7831\n",
            "Epoch 224/250\n",
            "3/3 [==============================] - 0s 79ms/step - loss: 1.3372e-05 - accuracy: 0.7831\n",
            "Epoch 225/250\n",
            "3/3 [==============================] - 0s 81ms/step - loss: 1.3225e-05 - accuracy: 0.7831\n",
            "Epoch 226/250\n",
            "3/3 [==============================] - 0s 83ms/step - loss: 1.3084e-05 - accuracy: 0.7831\n",
            "Epoch 227/250\n",
            "3/3 [==============================] - 0s 69ms/step - loss: 1.2952e-05 - accuracy: 0.7831\n",
            "Epoch 228/250\n",
            "3/3 [==============================] - 0s 81ms/step - loss: 1.2814e-05 - accuracy: 0.7831\n",
            "Epoch 229/250\n",
            "3/3 [==============================] - 0s 73ms/step - loss: 1.2677e-05 - accuracy: 0.7831\n",
            "Epoch 230/250\n",
            "3/3 [==============================] - 0s 81ms/step - loss: 1.2572e-05 - accuracy: 0.7831\n",
            "Epoch 231/250\n",
            "3/3 [==============================] - 0s 76ms/step - loss: 1.2438e-05 - accuracy: 0.7711\n",
            "Epoch 232/250\n",
            "3/3 [==============================] - 0s 82ms/step - loss: 1.2304e-05 - accuracy: 0.7711\n",
            "Epoch 233/250\n",
            "3/3 [==============================] - 0s 77ms/step - loss: 1.2183e-05 - accuracy: 0.7711\n",
            "Epoch 234/250\n",
            "3/3 [==============================] - 0s 80ms/step - loss: 1.2066e-05 - accuracy: 0.7711\n",
            "Epoch 235/250\n",
            "3/3 [==============================] - 0s 82ms/step - loss: 1.1938e-05 - accuracy: 0.7831\n",
            "Epoch 236/250\n",
            "3/3 [==============================] - 0s 77ms/step - loss: 1.1818e-05 - accuracy: 0.7711\n",
            "Epoch 237/250\n",
            "3/3 [==============================] - 0s 77ms/step - loss: 1.1704e-05 - accuracy: 0.7711\n",
            "Epoch 238/250\n",
            "3/3 [==============================] - 0s 80ms/step - loss: 1.1592e-05 - accuracy: 0.7711\n",
            "Epoch 239/250\n",
            "3/3 [==============================] - 0s 80ms/step - loss: 1.1470e-05 - accuracy: 0.7711\n",
            "Epoch 240/250\n",
            "3/3 [==============================] - 0s 75ms/step - loss: 1.1362e-05 - accuracy: 0.7711\n",
            "Epoch 241/250\n",
            "3/3 [==============================] - 0s 85ms/step - loss: 1.1259e-05 - accuracy: 0.7711\n",
            "Epoch 242/250\n",
            "3/3 [==============================] - 0s 84ms/step - loss: 1.1145e-05 - accuracy: 0.7711\n",
            "Epoch 243/250\n",
            "3/3 [==============================] - 0s 84ms/step - loss: 1.1036e-05 - accuracy: 0.7711\n",
            "Epoch 244/250\n",
            "3/3 [==============================] - 0s 82ms/step - loss: 1.0931e-05 - accuracy: 0.7711\n",
            "Epoch 245/250\n",
            "3/3 [==============================] - 0s 73ms/step - loss: 1.0830e-05 - accuracy: 0.7711\n",
            "Epoch 246/250\n",
            "3/3 [==============================] - 0s 78ms/step - loss: 1.0724e-05 - accuracy: 0.7711\n",
            "Epoch 247/250\n",
            "3/3 [==============================] - 0s 76ms/step - loss: 1.0629e-05 - accuracy: 0.7711\n",
            "Epoch 248/250\n",
            "3/3 [==============================] - 0s 80ms/step - loss: 1.0527e-05 - accuracy: 0.7711\n",
            "Epoch 249/250\n",
            "3/3 [==============================] - 0s 85ms/step - loss: 1.0435e-05 - accuracy: 0.7711\n",
            "Epoch 250/250\n",
            "3/3 [==============================] - 0s 65ms/step - loss: 1.0324e-05 - accuracy: 0.7711\n"
          ]
        }
      ]
    },
    {
      "cell_type": "code",
      "metadata": {
        "colab": {
          "base_uri": "https://localhost:8080/"
        },
        "id": "03vtkH1og9fg",
        "outputId": "98ac8cc9-a081-41e8-d087-2760451ba209"
      },
      "source": [
        "history_dict = history.history\n",
        "print(history_dict.keys())"
      ],
      "execution_count": 11,
      "outputs": [
        {
          "output_type": "stream",
          "name": "stdout",
          "text": [
            "dict_keys(['loss', 'accuracy'])\n"
          ]
        }
      ]
    },
    {
      "cell_type": "code",
      "metadata": {
        "id": "QNIesj3bhCk3"
      },
      "source": [
        "# imports \n",
        "import matplotlib.pyplot as plt \n",
        "import matplotlib.image as mpimg\n",
        "\n",
        "# function to plot training given history dictionary \n",
        "def plot_training(history_dict):\n",
        "\t\"\"\"\n",
        "\tPlots the training accuracy and loss graphs for a Keras model (validation graphs not included). \n",
        "\tParameters:\n",
        "\t\t- history_dict: a dictionary of \"history\" object from Keras \n",
        "\t\"\"\"\n",
        "\t# plot training accuracy graph \n",
        "\tplt.plot(history_dict['accuracy'])\n",
        "\tplt.title('Training Accuracy')\n",
        "\tplt.ylabel('accuracy')\n",
        "\tplt.xlabel('epoch')\n",
        "\tplt.legend(['train'], loc='upper left')\n",
        "\tplt.show()\n",
        "\n",
        "\t# plot training loss graph \n",
        "\tplt.plot(history_dict['loss'])\n",
        "\tplt.title('Training Loss')\n",
        "\tplt.ylabel('loss')\n",
        "\tplt.xlabel('epoch')\n",
        "\tplt.legend(['train'], loc='upper left')\n",
        "\tplt.show()"
      ],
      "execution_count": 12,
      "outputs": []
    },
    {
      "cell_type": "code",
      "metadata": {
        "colab": {
          "base_uri": "https://localhost:8080/",
          "height": 573
        },
        "id": "tg1yoFe0hF8Z",
        "outputId": "1cf4982e-d9fc-42b7-ce28-c5a7f8441cb6"
      },
      "source": [
        "plot_training(history_dict)"
      ],
      "execution_count": 13,
      "outputs": [
        {
          "output_type": "display_data",
          "data": {
            "image/png": "[encoded data removed]",
            "text/plain": [
              "<Figure size 432x288 with 1 Axes>"
            ]
          },
          "metadata": {
            "needs_background": "light"
          }
        },
        {
          "output_type": "display_data",
          "data": {
            "image/png": "[encoded data removed]",
            "text/plain": [
              "<Figure size 432x288 with 1 Axes>"
            ]
          },
          "metadata": {
            "needs_background": "light"
          }
        }
      ]
    },
    {
      "cell_type": "markdown",
      "metadata": {
        "id": "i8yCIuxDgwsU"
      },
      "source": [
        "## Evaluate the model on the test set "
      ]
    },
    {
      "cell_type": "code",
      "metadata": {
        "id": "eEOStoMdeBFC"
      },
      "source": [
        "predictions = model.predict(X_test)"
      ],
      "execution_count": 22,
      "outputs": []
    },
    {
      "cell_type": "markdown",
      "metadata": {
        "id": "InDuXKmbTf-F"
      },
      "source": [
        "Round to 0 or 1 to make the predictions discrete (like how the ground truths are). "
      ]
    },
    {
      "cell_type": "code",
      "metadata": {
        "id": "ElO5474FfAKJ"
      },
      "source": [
        "predictions_temp = []\n",
        "for elem in predictions:\n",
        "  curr_preds = []\n",
        "  curr_pred = elem\n",
        "  for number in curr_pred:\n",
        "    if number > 0.5:\n",
        "      curr_preds.append(1)\n",
        "    else:\n",
        "      curr_preds.append(0)\n",
        "  predictions_temp.append(curr_preds)\n",
        "predictions_multilabel = predictions_temp"
      ],
      "execution_count": 23,
      "outputs": []
    },
    {
      "cell_type": "code",
      "metadata": {
        "id": "uN0tZgkCi3ij"
      },
      "source": [
        "# proportional accuracy\n",
        "counter = 0;  \n",
        "aggregate_ctr = 0;\n",
        "for j in range(len(predictions_multilabel)):\n",
        "  prediction_set = predictions_multilabel[j]; \n",
        "  for i in range(len(prediction_set)):\n",
        "    if prediction_set[i] == y_test[j][i]:\n",
        "      counter += 1\n",
        "    aggregate_ctr += 1"
      ],
      "execution_count": 25,
      "outputs": []
    },
    {
      "cell_type": "code",
      "metadata": {
        "colab": {
          "base_uri": "https://localhost:8080/"
        },
        "id": "AA6780Y7oqOR",
        "outputId": "92c506da-a43f-4d3d-e970-69889ae66a10"
      },
      "source": [
        "print(\"Proportional accuracy: \", counter/aggregate_ctr * 100, \"percent\")"
      ],
      "execution_count": 29,
      "outputs": [
        {
          "output_type": "stream",
          "name": "stdout",
          "text": [
            "Proportional accuracy:  94.04761904761905 percent\n"
          ]
        }
      ]
    },
    {
      "cell_type": "markdown",
      "metadata": {
        "id": "Y6Jg7MXCXri-"
      },
      "source": [
        "The following generates f1, precision, and recall: "
      ]
    },
    {
      "cell_type": "code",
      "metadata": {
        "colab": {
          "base_uri": "https://localhost:8080/"
        },
        "id": "FtDRb5_CUol6",
        "outputId": "68393b82-5d20-40f9-bdea-ab5ab3272880"
      },
      "source": [
        "from sklearn.metrics import classification_report\n",
        "print(classification_report(y_test, predictions_multilabel))"
      ],
      "execution_count": 39,
      "outputs": [
        {
          "output_type": "stream",
          "name": "stdout",
          "text": [
            "              precision    recall  f1-score   support\n",
            "\n",
            "           0       0.33      0.33      0.33         3\n",
            "           1       0.00      0.00      0.00         0\n",
            "           2       0.00      0.00      0.00         0\n",
            "           3       0.00      0.00      0.00         0\n",
            "           4       0.00      0.00      0.00         0\n",
            "           5       0.00      0.00      0.00         1\n",
            "           6       0.00      0.00      0.00         0\n",
            "           7       0.00      0.00      0.00         1\n",
            "           8       0.00      0.00      0.00         0\n",
            "           9       0.00      0.00      0.00         0\n",
            "          10       0.00      0.00      0.00         0\n",
            "          11       0.00      0.00      0.00         0\n",
            "          12       0.00      0.00      0.00         0\n",
            "          13       0.00      0.00      0.00         0\n",
            "          14       0.00      0.00      0.00         0\n",
            "          15       0.00      0.00      0.00         0\n",
            "          16       0.00      0.00      0.00         0\n",
            "          17       0.00      0.00      0.00         0\n",
            "          18       0.00      0.00      0.00         0\n",
            "          19       0.00      0.00      0.00         2\n",
            "          20       0.00      0.00      0.00         0\n",
            "          21       0.00      0.00      0.00         1\n",
            "          22       0.00      0.00      0.00         0\n",
            "          23       0.00      0.00      0.00         1\n",
            "          24       0.00      0.00      0.00         0\n",
            "          25       1.00      0.25      0.40         4\n",
            "          26       0.00      0.00      0.00         0\n",
            "          27       0.00      0.00      0.00         0\n",
            "\n",
            "   micro avg       0.33      0.15      0.21        13\n",
            "   macro avg       0.05      0.02      0.03        13\n",
            "weighted avg       0.38      0.15      0.20        13\n",
            " samples avg       0.22      0.09      0.13        13\n",
            "\n"
          ]
        },
        {
          "output_type": "stream",
          "name": "stderr",
          "text": [
            "/usr/local/lib/python3.7/dist-packages/sklearn/metrics/_classification.py:1308: UndefinedMetricWarning: Precision and F-score are ill-defined and being set to 0.0 in labels with no predicted samples. Use `zero_division` parameter to control this behavior.\n",
            "  _warn_prf(average, modifier, msg_start, len(result))\n",
            "/usr/local/lib/python3.7/dist-packages/sklearn/metrics/_classification.py:1308: UndefinedMetricWarning: Recall and F-score are ill-defined and being set to 0.0 in labels with no true samples. Use `zero_division` parameter to control this behavior.\n",
            "  _warn_prf(average, modifier, msg_start, len(result))\n",
            "/usr/local/lib/python3.7/dist-packages/sklearn/metrics/_classification.py:1308: UndefinedMetricWarning: Precision and F-score are ill-defined and being set to 0.0 in samples with no predicted labels. Use `zero_division` parameter to control this behavior.\n",
            "  _warn_prf(average, modifier, msg_start, len(result))\n"
          ]
        }
      ]
    },
    {
      "cell_type": "code",
      "metadata": {
        "colab": {
          "base_uri": "https://localhost:8080/"
        },
        "id": "38U2RzL3h907",
        "outputId": "dd8a2a51-3a71-4d0d-a7db-565916e33d96"
      },
      "source": [
        "test_loss, test_accuracy = model.evaluate(X_test,  y_test, verbose=2)\n",
        "print('Exact match test accuracy:', test_accuracy)"
      ],
      "execution_count": 54,
      "outputs": [
        {
          "output_type": "stream",
          "name": "stdout",
          "text": [
            "1/1 - 0s - loss: 0.5995 - accuracy: 0.2222 - 35ms/epoch - 35ms/step\n",
            "Exact match test accuracy: 0.2222222238779068\n"
          ]
        }
      ]
    }
  ]
}